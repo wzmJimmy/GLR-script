{
  "nbformat": 4,
  "nbformat_minor": 0,
  "metadata": {
    "colab": {
      "name": "upload train.ipynb",
      "provenance": [],
      "collapsed_sections": []
    },
    "kernelspec": {
      "name": "python3",
      "display_name": "Python 3"
    }
  },
  "cells": [
    {
      "cell_type": "code",
      "metadata": {
        "id": "_b80J6g70M5J",
        "colab_type": "code",
        "colab": {}
      },
      "source": [
        "# !curl -Os https://s3.amazonaws.com/google-landmark/metadata/train.csv > train.csv\n",
        "# !curl -Os  https://s3.amazonaws.com/google-landmark/metadata/train_clean.csv > train_clean.csv\n",
        "# !curl -Os https://s3.amazonaws.com/google-landmark/ground_truth/recognition_solution_v2.1.csv > recognition_solution_v2.1.csv"
      ],
      "execution_count": null,
      "outputs": []
    },
    {
      "cell_type": "code",
      "metadata": {
        "id": "JSpe9Hos7_vC",
        "colab_type": "code",
        "colab": {}
      },
      "source": [
        "import pandas as pd\n",
        "import matplotlib.pyplot as plt\n",
        "import numpy as np"
      ],
      "execution_count": null,
      "outputs": []
    },
    {
      "cell_type": "code",
      "metadata": {
        "id": "F4enrFY1w6l3",
        "colab_type": "code",
        "colab": {}
      },
      "source": [
        "from google.colab import auth\n",
        "auth.authenticate_user()"
      ],
      "execution_count": null,
      "outputs": []
    },
    {
      "cell_type": "code",
      "metadata": {
        "id": "eyO6QSa37gxp",
        "colab_type": "code",
        "colab": {}
      },
      "source": [
        "bucket_name = 'gld_v2' \n",
        "PROJECT_ID = 'rational-moon-286222'\n",
        "from google.cloud import storage\n",
        "storage_client = storage.Client(project=PROJECT_ID)\n",
        "\n",
        "def upload_blob( source_file_name, destination_blob_name,bucket_name=bucket_name,verb=True):\n",
        "    bucket = storage_client.get_bucket(bucket_name)\n",
        "    blob = bucket.blob(destination_blob_name)\n",
        "    blob.upload_from_filename(source_file_name)\n",
        "    if verb: print('File {} uploaded to {}.'.format(source_file_name,destination_blob_name))\n",
        "\n",
        "def download_blob( source_blob_name, destination_file_name,bucket_name=bucket_name,verb=True):\n",
        "    bucket = storage_client.get_bucket(bucket_name)\n",
        "    blob = bucket.blob(source_blob_name)\n",
        "    blob.download_to_filename(destination_file_name)\n",
        "    if verb: print('File {} downloaded from {}.'.format(destination_file_name,source_blob_name))"
      ],
      "execution_count": null,
      "outputs": []
    },
    {
      "cell_type": "code",
      "metadata": {
        "id": "2XMkyZWtxWav",
        "colab_type": "code",
        "colab": {
          "base_uri": "https://localhost:8080/",
          "height": 68
        },
        "outputId": "265216cb-202f-42ee-9bf1-f5574c07983e"
      },
      "source": [
        "download_blob(\"recognition_solution_v2.1.csv\",\"test.csv\")\n",
        "download_blob(\"train_clean_format.csv\",\"train_clean.csv\")\n",
        "download_blob(\"train_full.csv\",\"train_full.csv\")"
      ],
      "execution_count": null,
      "outputs": [
        {
          "output_type": "stream",
          "text": [
            "File test.csv downloaded from recognition_solution_v2.1.csv.\n",
            "File train_clean.csv downloaded from train_clean_format.csv.\n",
            "File train_full.csv downloaded from train_full.csv.\n"
          ],
          "name": "stdout"
        }
      ]
    },
    {
      "cell_type": "markdown",
      "metadata": {
        "id": "6G2xFpAUk_Cb",
        "colab_type": "text"
      },
      "source": [
        "setup"
      ]
    },
    {
      "cell_type": "code",
      "metadata": {
        "id": "fu4CdtYDkVHD",
        "colab_type": "code",
        "colab": {}
      },
      "source": [
        "lb_size = 4\n",
        "div = 10\n",
        "seed = 1214\n",
        "np.random.seed=seed"
      ],
      "execution_count": null,
      "outputs": []
    },
    {
      "cell_type": "code",
      "metadata": {
        "id": "FWYTxsH0zUBl",
        "colab_type": "code",
        "colab": {}
      },
      "source": [
        "test = pd.read_csv(\"test.csv\",usecols=[\"id\",\"landmarks\"])\n",
        "train_clean = pd.read_csv(\"train_clean.csv\")\n",
        "train_full = pd.read_csv(\"train_full.csv\")"
      ],
      "execution_count": null,
      "outputs": []
    },
    {
      "cell_type": "code",
      "metadata": {
        "id": "XGBVADas3HSg",
        "colab_type": "code",
        "colab": {
          "base_uri": "https://localhost:8080/",
          "height": 204
        },
        "outputId": "b4962f92-f61f-4ecc-bec7-58f0e5d73319"
      },
      "source": [
        "train_clean.head()"
      ],
      "execution_count": null,
      "outputs": [
        {
          "output_type": "execute_result",
          "data": {
            "text/html": [
              "<div>\n",
              "<style scoped>\n",
              "    .dataframe tbody tr th:only-of-type {\n",
              "        vertical-align: middle;\n",
              "    }\n",
              "\n",
              "    .dataframe tbody tr th {\n",
              "        vertical-align: top;\n",
              "    }\n",
              "\n",
              "    .dataframe thead th {\n",
              "        text-align: right;\n",
              "    }\n",
              "</style>\n",
              "<table border=\"1\" class=\"dataframe\">\n",
              "  <thead>\n",
              "    <tr style=\"text-align: right;\">\n",
              "      <th></th>\n",
              "      <th>id</th>\n",
              "      <th>landmark_id</th>\n",
              "    </tr>\n",
              "  </thead>\n",
              "  <tbody>\n",
              "    <tr>\n",
              "      <th>0</th>\n",
              "      <td>17660ef415d37059</td>\n",
              "      <td>1</td>\n",
              "    </tr>\n",
              "    <tr>\n",
              "      <th>1</th>\n",
              "      <td>92b6290d571448f6</td>\n",
              "      <td>1</td>\n",
              "    </tr>\n",
              "    <tr>\n",
              "      <th>2</th>\n",
              "      <td>cd41bf948edc0340</td>\n",
              "      <td>1</td>\n",
              "    </tr>\n",
              "    <tr>\n",
              "      <th>3</th>\n",
              "      <td>fb09f1e98c6d2f70</td>\n",
              "      <td>1</td>\n",
              "    </tr>\n",
              "    <tr>\n",
              "      <th>4</th>\n",
              "      <td>25c9dfc7ea69838d</td>\n",
              "      <td>7</td>\n",
              "    </tr>\n",
              "  </tbody>\n",
              "</table>\n",
              "</div>"
            ],
            "text/plain": [
              "                 id  landmark_id\n",
              "0  17660ef415d37059            1\n",
              "1  92b6290d571448f6            1\n",
              "2  cd41bf948edc0340            1\n",
              "3  fb09f1e98c6d2f70            1\n",
              "4  25c9dfc7ea69838d            7"
            ]
          },
          "metadata": {
            "tags": []
          },
          "execution_count": 8
        }
      ]
    },
    {
      "cell_type": "markdown",
      "metadata": {
        "id": "-6z0kVTNkjKd",
        "colab_type": "text"
      },
      "source": [
        "Seperate train_clean & not_clean from full"
      ]
    },
    {
      "cell_type": "code",
      "metadata": {
        "id": "iih9U0WRkU_S",
        "colab_type": "code",
        "colab": {}
      },
      "source": [
        "def anti_join(x, y, on):\n",
        "    \"\"\"Return rows in x which are not present in y\"\"\"\n",
        "    ans = pd.merge(left=x, right=y, how='left', indicator=True, on=on)\n",
        "    ans = ans.loc[ans._merge == 'left_only', :].drop(columns='_merge')\n",
        "    return ans"
      ],
      "execution_count": null,
      "outputs": []
    },
    {
      "cell_type": "code",
      "metadata": {
        "id": "0xxr2qMB0-zG",
        "colab_type": "code",
        "colab": {}
      },
      "source": [
        "train_out = anti_join(train_full,train_clean[[\"id\"]],[\"id\"])"
      ],
      "execution_count": null,
      "outputs": []
    },
    {
      "cell_type": "code",
      "metadata": {
        "id": "mRcYl0BG2khi",
        "colab_type": "code",
        "colab": {
          "base_uri": "https://localhost:8080/",
          "height": 34
        },
        "outputId": "ce5fa778-9492-4213-bafc-9338d28ab7f3"
      },
      "source": [
        "assert train_out.shape[0]+train_clean.shape[0]==train_full.shape[0]\n",
        "train_out.shape[0],train_clean.shape[0],train_full.shape[0]"
      ],
      "execution_count": null,
      "outputs": [
        {
          "output_type": "execute_result",
          "data": {
            "text/plain": [
              "(2552444, 1580470, 4132914)"
            ]
          },
          "metadata": {
            "tags": []
          },
          "execution_count": 11
        }
      ]
    },
    {
      "cell_type": "code",
      "metadata": {
        "id": "0WRow4u33zLr",
        "colab_type": "code",
        "colab": {}
      },
      "source": [
        "train_clean_count = train_clean.groupby([\"landmark_id\"]).count()\n",
        "train_out_count = train_out.groupby([\"landmark_id\"]).count()\n",
        "train_clean_count.columns = [\"num\"]\n",
        "train_out_count.columns = [\"num\"]"
      ],
      "execution_count": null,
      "outputs": []
    },
    {
      "cell_type": "code",
      "metadata": {
        "id": "htQHwE3W4SgN",
        "colab_type": "code",
        "colab": {
          "base_uri": "https://localhost:8080/",
          "height": 269
        },
        "outputId": "dc0f502b-732e-4cc4-833e-64acc66f1811"
      },
      "source": [
        "logbins = [1,3,10,30,100,300,1000,3000,10000]\n",
        "train_clean_count.num.hist(bins=logbins)\n",
        "plt.xscale('log')\n",
        "plt.yscale('log')\n",
        "plt.show()"
      ],
      "execution_count": null,
      "outputs": [
        {
          "output_type": "display_data",
          "data": {
            "image/png": "[encoded data removed]",
            "text/plain": [
              "<Figure size 432x288 with 1 Axes>"
            ]
          },
          "metadata": {
            "tags": [],
            "needs_background": "light"
          }
        }
      ]
    },
    {
      "cell_type": "code",
      "metadata": {
        "id": "A5CSMqKc6pT_",
        "colab_type": "code",
        "colab": {
          "base_uri": "https://localhost:8080/",
          "height": 269
        },
        "outputId": "63819e2a-569f-4658-881f-ac9d1459e658"
      },
      "source": [
        "train_out_count.num.hist(bins=logbins)\n",
        "plt.xscale('log')\n",
        "plt.yscale('log')\n",
        "plt.show()"
      ],
      "execution_count": null,
      "outputs": [
        {
          "output_type": "display_data",
          "data": {
            "image/png": "[encoded data removed]",
            "text/plain": [
              "<Figure size 432x288 with 1 Axes>"
            ]
          },
          "metadata": {
            "tags": [],
            "needs_background": "light"
          }
        }
      ]
    },
    {
      "cell_type": "markdown",
      "metadata": {
        "id": "brrckActkq1Z",
        "colab_type": "text"
      },
      "source": [
        "Generate Train and valid split for both"
      ]
    },
    {
      "cell_type": "code",
      "metadata": {
        "id": "q94tYa_7ktnH",
        "colab_type": "code",
        "colab": {}
      },
      "source": [
        "def val_num(x):\n",
        "  return np.where(x<lb_size,np.zeros_like(x),np.ceil(x/div))\n",
        "\n",
        "train_clean_count[\"num_val\"] = train_clean_count.num.map(val_num).astype(\"int16\")\n",
        "train_out_count[\"num_val\"] = train_out_count.num.map(val_num).astype(\"int16\")"
      ],
      "execution_count": null,
      "outputs": []
    },
    {
      "cell_type": "code",
      "metadata": {
        "id": "LYWUR9uUABXO",
        "colab_type": "code",
        "colab": {}
      },
      "source": [
        "def separate_train_val_df(df,df_count,seed=seed):\n",
        "  rs = np.random.RandomState(np.random.MT19937(np.random.SeedSequence(seed)))\n",
        "  groups = df.groupby([\"landmark_id\"]).groups\n",
        "\n",
        "  train_li,val_li = [],[]\n",
        "  for k,row in df_count.iterrows():\n",
        "    ids = groups[k].values\n",
        "    rs.shuffle(ids)\n",
        "    train_li.append(ids[row[\"num_val\"]:])\n",
        "    val_li.append(ids[:row[\"num_val\"]])\n",
        "  train_li = np.concatenate(train_li)\n",
        "  val_li = np.concatenate(val_li)\n",
        "\n",
        "  return df.loc[train_li],df.loc[val_li]"
      ],
      "execution_count": null,
      "outputs": []
    },
    {
      "cell_type": "code",
      "metadata": {
        "id": "azi5hN85DMta",
        "colab_type": "code",
        "colab": {}
      },
      "source": [
        "df_clean_tr,df_clean_va = separate_train_val_df(train_clean,train_clean_count)\n",
        "df_out_tr,df_out_va = separate_train_val_df(train_out,train_out_count)"
      ],
      "execution_count": null,
      "outputs": []
    },
    {
      "cell_type": "code",
      "metadata": {
        "id": "6JbuRXf_Ga5J",
        "colab_type": "code",
        "colab": {
          "base_uri": "https://localhost:8080/",
          "height": 34
        },
        "outputId": "91b84302-3c59-4aa1-ad29-86d0409c80e8"
      },
      "source": [
        "df_clean_tr.shape[0],df_clean_va.shape[0],df_out_tr.shape[0],df_out_va.shape[0]"
      ],
      "execution_count": null,
      "outputs": [
        {
          "output_type": "execute_result",
          "data": {
            "text/plain": [
              "(1392698, 187772, 2252318, 300126)"
            ]
          },
          "metadata": {
            "tags": []
          },
          "execution_count": 18
        }
      ]
    },
    {
      "cell_type": "markdown",
      "metadata": {
        "id": "Ctb_AsnuH_xL",
        "colab_type": "text"
      },
      "source": [
        "process test"
      ]
    },
    {
      "cell_type": "code",
      "metadata": {
        "id": "njirQ-WeIYkU",
        "colab_type": "code",
        "colab": {}
      },
      "source": [
        "se = set(train_clean_count.index)\n",
        "def process(st):\n",
        "  if st==\"nan\": return False\n",
        "  return any(int(i) in se for i in st.split())\n",
        "def isin(idx):\n",
        "  return idx in se"
      ],
      "execution_count": null,
      "outputs": []
    },
    {
      "cell_type": "code",
      "metadata": {
        "id": "GAv5uda3IGps",
        "colab_type": "code",
        "colab": {}
      },
      "source": [
        "test[\"has_clean_landmark\"] = test.landmarks.astype(str).map(process)\n",
        "test[\"has_landmark\"] = ~test.landmarks.isnull()\n",
        "test = test[[\"id\",\"has_landmark\",\"has_clean_landmark\"]]"
      ],
      "execution_count": null,
      "outputs": []
    },
    {
      "cell_type": "code",
      "metadata": {
        "id": "LOuYmCTzKxsp",
        "colab_type": "code",
        "colab": {
          "base_uri": "https://localhost:8080/",
          "height": 34
        },
        "outputId": "7bbec77b-2cb4-4c20-88f5-a829d16e7cf5"
      },
      "source": [
        "sum(test[\"has_landmark\"]),sum(test[\"has_clean_landmark\"]),test.shape[0]"
      ],
      "execution_count": null,
      "outputs": [
        {
          "output_type": "execute_result",
          "data": {
            "text/plain": [
              "(1972, 1622, 117577)"
            ]
          },
          "metadata": {
            "tags": []
          },
          "execution_count": 21
        }
      ]
    },
    {
      "cell_type": "code",
      "metadata": {
        "id": "EEdibts9XuoC",
        "colab_type": "code",
        "colab": {}
      },
      "source": [
        "df_out_tr[\"has_clean_landmark\"] = df_out_tr.landmark_id.map(isin)\n",
        "df_out_va[\"has_clean_landmark\"] = df_out_va.landmark_id.map(isin)"
      ],
      "execution_count": null,
      "outputs": []
    },
    {
      "cell_type": "code",
      "metadata": {
        "id": "0SIw9hjgYmgN",
        "colab_type": "code",
        "colab": {
          "base_uri": "https://localhost:8080/",
          "height": 34
        },
        "outputId": "32d93ead-e4c7-4677-f0da-603219388f3d"
      },
      "source": [
        "sum(df_out_tr[\"has_clean_landmark\"]),sum(df_out_va[\"has_clean_landmark\"])"
      ],
      "execution_count": null,
      "outputs": [
        {
          "output_type": "execute_result",
          "data": {
            "text/plain": [
              "(1453953, 188655)"
            ]
          },
          "metadata": {
            "tags": []
          },
          "execution_count": 23
        }
      ]
    },
    {
      "cell_type": "code",
      "metadata": {
        "id": "tumxzjrOY3nI",
        "colab_type": "code",
        "colab": {
          "base_uri": "https://localhost:8080/",
          "height": 34
        },
        "outputId": "266162ba-e53d-4d19-dfae-2c6de96e1464"
      },
      "source": [
        "1642608/2552444"
      ],
      "execution_count": null,
      "outputs": [
        {
          "output_type": "execute_result",
          "data": {
            "text/plain": [
              "0.6435432079998621"
            ]
          },
          "metadata": {
            "tags": []
          },
          "execution_count": 24
        }
      ]
    },
    {
      "cell_type": "markdown",
      "metadata": {
        "id": "-3oJYkjxk02k",
        "colab_type": "text"
      },
      "source": [
        "preprocess and upload"
      ]
    },
    {
      "cell_type": "code",
      "metadata": {
        "id": "pBuNA3SKL5Rs",
        "colab_type": "code",
        "colab": {
          "base_uri": "https://localhost:8080/",
          "height": 34
        },
        "outputId": "93e4bd21-cd81-4b5b-9291-539dc12ab1a3"
      },
      "source": [
        "1580470/100,2552444/200,117577/8"
      ],
      "execution_count": null,
      "outputs": [
        {
          "output_type": "execute_result",
          "data": {
            "text/plain": [
              "(15804.7, 12762.22, 14697.125)"
            ]
          },
          "metadata": {
            "tags": []
          },
          "execution_count": 25
        }
      ]
    },
    {
      "cell_type": "code",
      "metadata": {
        "id": "cuGuYXukMdsD",
        "colab_type": "code",
        "colab": {
          "base_uri": "https://localhost:8080/",
          "height": 34
        },
        "outputId": "a2ba1cac-cef7-42bf-f5f9-25faeeb0d127"
      },
      "source": [
        "1392698/15804, 187772/15804, 2252318/12762, 300126/12762\n",
        "# 88,12,177,24"
      ],
      "execution_count": null,
      "outputs": [
        {
          "output_type": "execute_result",
          "data": {
            "text/plain": [
              "(88.12313338395343, 11.881295874462161, 176.48628741576556, 23.517160319699105)"
            ]
          },
          "metadata": {
            "tags": []
          },
          "execution_count": 26
        }
      ]
    },
    {
      "cell_type": "code",
      "metadata": {
        "id": "mru04uKCk0Zq",
        "colab_type": "code",
        "colab": {}
      },
      "source": [
        "rs = np.random.RandomState(np.random.MT19937(np.random.SeedSequence(seed)))\n",
        "\n",
        "df_clean_tr = df_clean_tr.sample(frac=1,random_state=rs).reset_index(drop=True)\n",
        "df_clean_va = df_clean_va.sample(frac=1,random_state=rs).reset_index(drop=True)\n",
        "df_out_tr = df_out_tr.sample(frac=1,random_state=rs).reset_index(drop=True)\n",
        "df_out_va = df_out_va.sample(frac=1,random_state=rs).reset_index(drop=True)\n",
        "test = test.sample(frac=1,random_state=rs).reset_index(drop=True)"
      ],
      "execution_count": null,
      "outputs": []
    },
    {
      "cell_type": "code",
      "metadata": {
        "id": "-b2Rr6fHOyr6",
        "colab_type": "code",
        "colab": {}
      },
      "source": [
        "li = [df_clean_tr,df_clean_va,df_out_tr,df_out_va,test]\n",
        "file = [\"df_clean_tr.csv\",\"df_clean_va.csv\",\"df_out_tr.csv\",\"df_out_va.csv\",\"df_test.csv\"]\n",
        "\n",
        "for i,f in zip(li,file):\n",
        "  i.to_csv(f,index=False)"
      ],
      "execution_count": null,
      "outputs": []
    },
    {
      "cell_type": "code",
      "metadata": {
        "id": "NxHaHrmcP0pC",
        "colab_type": "code",
        "colab": {
          "base_uri": "https://localhost:8080/",
          "height": 102
        },
        "outputId": "d3e3f897-3440-4f1b-fbcc-d814adf7f4c4"
      },
      "source": [
        "for i in file:\n",
        "  upload_blob(i,i)"
      ],
      "execution_count": null,
      "outputs": [
        {
          "output_type": "stream",
          "text": [
            "File df_clean_tr.csv uploaded to df_clean_tr.csv.\n",
            "File df_clean_va.csv uploaded to df_clean_va.csv.\n",
            "File df_out_tr.csv uploaded to df_out_tr.csv.\n",
            "File df_out_va.csv uploaded to df_out_va.csv.\n",
            "File df_test.csv uploaded to df_test.csv.\n"
          ],
          "name": "stdout"
        }
      ]
    }
  ]
}